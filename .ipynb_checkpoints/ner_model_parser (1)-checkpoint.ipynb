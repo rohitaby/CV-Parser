{
 "cells": [
  {
   "cell_type": "code",
   "execution_count": 1,
   "id": "39cd6aa1",
   "metadata": {},
   "outputs": [
    {
     "name": "stdout",
     "output_type": "stream",
     "text": [
      "Defaulting to user installation because normal site-packages is not writeable\n",
      "Requirement already satisfied: nltk in /Users/rohitabraham/Library/Python/3.8/lib/python/site-packages (3.8.1)\n",
      "Requirement already satisfied: regex>=2021.8.3 in /Users/rohitabraham/Library/Python/3.8/lib/python/site-packages (from nltk) (2022.10.31)\n",
      "Requirement already satisfied: joblib in /Users/rohitabraham/Library/Python/3.8/lib/python/site-packages (from nltk) (1.2.0)\n",
      "Requirement already satisfied: tqdm in /Users/rohitabraham/Library/Python/3.8/lib/python/site-packages (from nltk) (4.64.0)\n",
      "Requirement already satisfied: click in /Users/rohitabraham/Library/Python/3.8/lib/python/site-packages (from nltk) (8.1.3)\n",
      "\n",
      "\u001b[1m[\u001b[0m\u001b[34;49mnotice\u001b[0m\u001b[1;39;49m]\u001b[0m\u001b[39;49m A new release of pip available: \u001b[0m\u001b[31;49m22.1.2\u001b[0m\u001b[39;49m -> \u001b[0m\u001b[32;49m23.0\u001b[0m\n",
      "\u001b[1m[\u001b[0m\u001b[34;49mnotice\u001b[0m\u001b[1;39;49m]\u001b[0m\u001b[39;49m To update, run: \u001b[0m\u001b[32;49m/Library/Developer/CommandLineTools/usr/bin/python3 -m pip install --upgrade pip\u001b[0m\n",
      "Defaulting to user installation because normal site-packages is not writeable\n",
      "Requirement already satisfied: spacy in /Users/rohitabraham/Library/Python/3.8/lib/python/site-packages (3.5.0)\n",
      "Requirement already satisfied: cymem<2.1.0,>=2.0.2 in /Users/rohitabraham/Library/Python/3.8/lib/python/site-packages (from spacy) (2.0.7)\n",
      "Requirement already satisfied: pathy>=0.10.0 in /Users/rohitabraham/Library/Python/3.8/lib/python/site-packages (from spacy) (0.10.1)\n",
      "Requirement already satisfied: catalogue<2.1.0,>=2.0.6 in /Users/rohitabraham/Library/Python/3.8/lib/python/site-packages (from spacy) (2.0.8)\n",
      "Requirement already satisfied: smart-open<7.0.0,>=5.2.1 in /Users/rohitabraham/Library/Python/3.8/lib/python/site-packages (from spacy) (6.3.0)\n",
      "Requirement already satisfied: tqdm<5.0.0,>=4.38.0 in /Users/rohitabraham/Library/Python/3.8/lib/python/site-packages (from spacy) (4.64.0)\n",
      "Requirement already satisfied: srsly<3.0.0,>=2.4.3 in /Users/rohitabraham/Library/Python/3.8/lib/python/site-packages (from spacy) (2.4.5)\n",
      "Requirement already satisfied: preshed<3.1.0,>=3.0.2 in /Users/rohitabraham/Library/Python/3.8/lib/python/site-packages (from spacy) (3.0.8)\n",
      "Requirement already satisfied: jinja2 in /Users/rohitabraham/Library/Python/3.8/lib/python/site-packages (from spacy) (3.1.2)\n",
      "Requirement already satisfied: requests<3.0.0,>=2.13.0 in /Users/rohitabraham/Library/Python/3.8/lib/python/site-packages (from spacy) (2.28.1)\n",
      "Requirement already satisfied: packaging>=20.0 in /Users/rohitabraham/Library/Python/3.8/lib/python/site-packages (from spacy) (21.3)\n",
      "Requirement already satisfied: typer<0.8.0,>=0.3.0 in /Users/rohitabraham/Library/Python/3.8/lib/python/site-packages (from spacy) (0.7.0)\n",
      "Requirement already satisfied: murmurhash<1.1.0,>=0.28.0 in /Users/rohitabraham/Library/Python/3.8/lib/python/site-packages (from spacy) (1.0.9)\n",
      "Requirement already satisfied: setuptools in /Users/rohitabraham/Library/Python/3.8/lib/python/site-packages (from spacy) (63.2.0)\n",
      "Requirement already satisfied: langcodes<4.0.0,>=3.2.0 in /Users/rohitabraham/Library/Python/3.8/lib/python/site-packages (from spacy) (3.3.0)\n",
      "Requirement already satisfied: spacy-legacy<3.1.0,>=3.0.11 in /Users/rohitabraham/Library/Python/3.8/lib/python/site-packages (from spacy) (3.0.12)\n",
      "Requirement already satisfied: wasabi<1.2.0,>=0.9.1 in /Users/rohitabraham/Library/Python/3.8/lib/python/site-packages (from spacy) (1.1.1)\n",
      "Requirement already satisfied: numpy>=1.15.0 in /Users/rohitabraham/Library/Python/3.8/lib/python/site-packages (from spacy) (1.23.1)\n",
      "Requirement already satisfied: spacy-loggers<2.0.0,>=1.0.0 in /Users/rohitabraham/Library/Python/3.8/lib/python/site-packages (from spacy) (1.0.4)\n",
      "Requirement already satisfied: pydantic!=1.8,!=1.8.1,<1.11.0,>=1.7.4 in /Users/rohitabraham/Library/Python/3.8/lib/python/site-packages (from spacy) (1.10.4)\n",
      "Requirement already satisfied: thinc<8.2.0,>=8.1.0 in /Users/rohitabraham/Library/Python/3.8/lib/python/site-packages (from spacy) (8.1.7)\n",
      "Requirement already satisfied: pyparsing!=3.0.5,>=2.0.2 in /Users/rohitabraham/Library/Python/3.8/lib/python/site-packages (from packaging>=20.0->spacy) (3.0.9)\n",
      "Requirement already satisfied: typing-extensions>=4.2.0 in /Users/rohitabraham/Library/Python/3.8/lib/python/site-packages (from pydantic!=1.8,!=1.8.1,<1.11.0,>=1.7.4->spacy) (4.3.0)\n",
      "Requirement already satisfied: charset-normalizer<3,>=2 in /Users/rohitabraham/Library/Python/3.8/lib/python/site-packages (from requests<3.0.0,>=2.13.0->spacy) (2.1.0)\n",
      "Requirement already satisfied: idna<4,>=2.5 in /Users/rohitabraham/Library/Python/3.8/lib/python/site-packages (from requests<3.0.0,>=2.13.0->spacy) (3.3)\n",
      "Requirement already satisfied: certifi>=2017.4.17 in /Users/rohitabraham/Library/Python/3.8/lib/python/site-packages (from requests<3.0.0,>=2.13.0->spacy) (2022.6.15)\n",
      "Requirement already satisfied: urllib3<1.27,>=1.21.1 in /Users/rohitabraham/Library/Python/3.8/lib/python/site-packages (from requests<3.0.0,>=2.13.0->spacy) (1.26.10)\n",
      "Requirement already satisfied: blis<0.8.0,>=0.7.8 in /Users/rohitabraham/Library/Python/3.8/lib/python/site-packages (from thinc<8.2.0,>=8.1.0->spacy) (0.7.9)\n",
      "Requirement already satisfied: confection<1.0.0,>=0.0.1 in /Users/rohitabraham/Library/Python/3.8/lib/python/site-packages (from thinc<8.2.0,>=8.1.0->spacy) (0.0.4)\n",
      "Requirement already satisfied: click<9.0.0,>=7.1.1 in /Users/rohitabraham/Library/Python/3.8/lib/python/site-packages (from typer<0.8.0,>=0.3.0->spacy) (8.1.3)\n",
      "Requirement already satisfied: MarkupSafe>=2.0 in /Users/rohitabraham/Library/Python/3.8/lib/python/site-packages (from jinja2->spacy) (2.1.1)\n",
      "\n",
      "\u001b[1m[\u001b[0m\u001b[34;49mnotice\u001b[0m\u001b[1;39;49m]\u001b[0m\u001b[39;49m A new release of pip available: \u001b[0m\u001b[31;49m22.1.2\u001b[0m\u001b[39;49m -> \u001b[0m\u001b[32;49m23.0\u001b[0m\n",
      "\u001b[1m[\u001b[0m\u001b[34;49mnotice\u001b[0m\u001b[1;39;49m]\u001b[0m\u001b[39;49m To update, run: \u001b[0m\u001b[32;49m/Library/Developer/CommandLineTools/usr/bin/python3 -m pip install --upgrade pip\u001b[0m\n"
     ]
    }
   ],
   "source": [
    "!pip install nltk\n",
    "!pip install spacy\n",
    "!pip install gensim\n",
    "!pip install pyLDAvis\n",
    "!pip install wordcloud\n",
    "!pip install plotly\n",
    "!pip install jsonlines\n",
    "!pip install PyPDF2\n",
    "!pip install docx2pdf\n",
    "!pip install admin\n",
    "!pip install textract"
   ]
  },
  {
   "cell_type": "code",
   "execution_count": null,
   "id": "61d79eb1",
   "metadata": {},
   "outputs": [],
   "source": [
    "#spacy\n",
    "import spacy\n",
    "\n",
    "#gensim\n",
    "import gensim\n",
    "from gensim import corpora\n",
    "\n",
    "#Visualization\n",
    "from spacy import displacy\n",
    "import pyLDAvis.gensim_models\n",
    "from wordcloud import WordCloud\n",
    "import plotly.express as px\n",
    "import matplotlib.pyplot as plt\n",
    "\n",
    "#Data loading/ Data manipulation\n",
    "import pandas as pd\n",
    "import numpy as np\n",
    "import json\n",
    "import jsonlines\n",
    "\n",
    "#nltk\n",
    "import re\n",
    "import nltk\n",
    "from nltk.corpus import stopwords\n",
    "from nltk.stem import WordNetLemmatizer\n",
    "nltk.download(['stopwords','wordnet'])\n",
    "\n",
    "#warning\n",
    "import warnings \n",
    "warnings.filterwarnings('ignore')\n",
    "\n",
    "import textract\n",
    "import os"
   ]
  },
  {
   "cell_type": "code",
   "execution_count": 3,
   "id": "8b39ac02",
   "metadata": {},
   "outputs": [
    {
     "name": "stdout",
     "output_type": "stream",
     "text": [
      "Defaulting to user installation because normal site-packages is not writeable\n",
      "Collecting gensim\n",
      "  Downloading gensim-4.3.0.tar.gz (23.3 MB)\n",
      "\u001b[2K     \u001b[90m━━━━━━━━━━━━━━━━━━━━━━━━━━━━━━━━━━━━━━━\u001b[0m \u001b[32m23.3/23.3 MB\u001b[0m \u001b[31m247.3 kB/s\u001b[0m eta \u001b[36m0:00:00\u001b[0m00:01\u001b[0m00:03\u001b[0m\n",
      "\u001b[?25h  Preparing metadata (setup.py) ... \u001b[?25ldone\n",
      "\u001b[?25hRequirement already satisfied: numpy>=1.18.5 in /Users/rohitabraham/Library/Python/3.8/lib/python/site-packages (from gensim) (1.23.1)\n",
      "Collecting scipy>=1.7.0\n",
      "  Downloading scipy-1.10.0-cp38-cp38-macosx_12_0_arm64.whl (28.8 MB)\n",
      "\u001b[2K     \u001b[90m━━━━━━━━━━━━━━━━━━━━━━━━━━━━━━━━━━━━━━━\u001b[0m \u001b[32m28.8/28.8 MB\u001b[0m \u001b[31m248.4 kB/s\u001b[0m eta \u001b[36m0:00:00\u001b[0m00:01\u001b[0m00:04\u001b[0m\n",
      "\u001b[?25hRequirement already satisfied: smart_open>=1.8.1 in /Users/rohitabraham/Library/Python/3.8/lib/python/site-packages (from gensim) (6.3.0)\n",
      "Collecting FuzzyTM>=0.4.0\n",
      "  Downloading FuzzyTM-2.0.5-py3-none-any.whl (29 kB)\n",
      "Collecting pyfume\n",
      "  Downloading pyFUME-0.2.25-py3-none-any.whl (67 kB)\n",
      "\u001b[2K     \u001b[90m━━━━━━━━━━━━━━━━━━━━━━━━━━━━━━━━━━━━━━━\u001b[0m \u001b[32m67.1/67.1 kB\u001b[0m \u001b[31m302.7 kB/s\u001b[0m eta \u001b[36m0:00:00\u001b[0ma \u001b[36m0:00:01\u001b[0m\n",
      "\u001b[?25hRequirement already satisfied: pandas in /Users/rohitabraham/Library/Python/3.8/lib/python/site-packages (from FuzzyTM>=0.4.0->gensim) (1.4.3)\n",
      "Requirement already satisfied: pytz>=2020.1 in /Users/rohitabraham/Library/Python/3.8/lib/python/site-packages (from pandas->FuzzyTM>=0.4.0->gensim) (2022.1)\n",
      "Requirement already satisfied: python-dateutil>=2.8.1 in /Users/rohitabraham/Library/Python/3.8/lib/python/site-packages (from pandas->FuzzyTM>=0.4.0->gensim) (2.8.2)\n",
      "Collecting simpful\n",
      "  Downloading simpful-2.9.0-py3-none-any.whl (30 kB)\n",
      "Collecting fst-pso\n",
      "  Downloading fst-pso-1.8.1.tar.gz (18 kB)\n",
      "  Preparing metadata (setup.py) ... \u001b[?25ldone\n",
      "\u001b[?25hRequirement already satisfied: six>=1.5 in /Users/rohitabraham/Library/Python/3.8/lib/python/site-packages (from python-dateutil>=2.8.1->pandas->FuzzyTM>=0.4.0->gensim) (1.12.0)\n",
      "Collecting miniful\n",
      "  Downloading miniful-0.0.6.tar.gz (2.8 kB)\n",
      "  Preparing metadata (setup.py) ... \u001b[?25ldone\n",
      "\u001b[?25hRequirement already satisfied: requests in /Users/rohitabraham/Library/Python/3.8/lib/python/site-packages (from simpful->pyfume->FuzzyTM>=0.4.0->gensim) (2.28.1)\n",
      "Requirement already satisfied: urllib3<1.27,>=1.21.1 in /Users/rohitabraham/Library/Python/3.8/lib/python/site-packages (from requests->simpful->pyfume->FuzzyTM>=0.4.0->gensim) (1.26.10)\n",
      "Requirement already satisfied: charset-normalizer<3,>=2 in /Users/rohitabraham/Library/Python/3.8/lib/python/site-packages (from requests->simpful->pyfume->FuzzyTM>=0.4.0->gensim) (2.1.0)\n",
      "Requirement already satisfied: idna<4,>=2.5 in /Users/rohitabraham/Library/Python/3.8/lib/python/site-packages (from requests->simpful->pyfume->FuzzyTM>=0.4.0->gensim) (3.3)\n",
      "Requirement already satisfied: certifi>=2017.4.17 in /Users/rohitabraham/Library/Python/3.8/lib/python/site-packages (from requests->simpful->pyfume->FuzzyTM>=0.4.0->gensim) (2022.6.15)\n",
      "Building wheels for collected packages: gensim, fst-pso, miniful\n",
      "  Building wheel for gensim (setup.py) ... \u001b[?25ldone\n",
      "\u001b[?25h  Created wheel for gensim: filename=gensim-4.3.0-cp38-cp38-macosx_10_14_arm64.whl size=24445553 sha256=64c71a2811714ac2b9f03b7a7d6e88db0ba3eb15ab791ce895f0e584f5c2a5a2\n",
      "  Stored in directory: /Users/rohitabraham/Library/Caches/pip/wheels/70/9c/f4/db9e577f1b1c1a1045dcb40781268ea183f9f5ae76f6218407\n",
      "  Building wheel for fst-pso (setup.py) ... \u001b[?25ldone\n",
      "\u001b[?25h  Created wheel for fst-pso: filename=fst_pso-1.8.1-py3-none-any.whl size=20431 sha256=9d327ac2300f803b068ba3ade5f0415911bc1a69b6968b991a2cdcb553fadb03\n",
      "  Stored in directory: /Users/rohitabraham/Library/Caches/pip/wheels/6a/65/c4/d27eeee9ba3fc150a0dae150519591103b9e0dbffde3ae77dc\n",
      "  Building wheel for miniful (setup.py) ... \u001b[?25ldone\n",
      "\u001b[?25h  Created wheel for miniful: filename=miniful-0.0.6-py3-none-any.whl size=3514 sha256=23bb4cb060b077175990d8f295b9786b675a64e4df5cbff4cb749e78dbac0b8c\n",
      "  Stored in directory: /Users/rohitabraham/Library/Caches/pip/wheels/ba/d9/a0/ddd93af16d5855dd9bad417623e70948fdac119d1d34fb17c8\n",
      "Successfully built gensim fst-pso miniful\n",
      "Installing collected packages: scipy, simpful, miniful, fst-pso, pyfume, FuzzyTM, gensim\n",
      "Successfully installed FuzzyTM-2.0.5 fst-pso-1.8.1 gensim-4.3.0 miniful-0.0.6 pyfume-0.2.25 scipy-1.10.0 simpful-2.9.0\n",
      "\n",
      "\u001b[1m[\u001b[0m\u001b[34;49mnotice\u001b[0m\u001b[1;39;49m]\u001b[0m\u001b[39;49m A new release of pip available: \u001b[0m\u001b[31;49m22.1.2\u001b[0m\u001b[39;49m -> \u001b[0m\u001b[32;49m23.0\u001b[0m\n",
      "\u001b[1m[\u001b[0m\u001b[34;49mnotice\u001b[0m\u001b[1;39;49m]\u001b[0m\u001b[39;49m To update, run: \u001b[0m\u001b[32;49m/Library/Developer/CommandLineTools/usr/bin/python3 -m pip install --upgrade pip\u001b[0m\n"
     ]
    }
   ],
   "source": [
    "!python3 -m spacy download en_core_web_lg"
   ]
  },
  {
   "cell_type": "code",
   "execution_count": 33,
   "id": "3da0a3e0",
   "metadata": {},
   "outputs": [
    {
     "name": "stdout",
     "output_type": "stream",
     "text": [
      "Defaulting to user installation because normal site-packages is not writeable\n",
      "\u001b[31mERROR: Ignored the following versions that require a different python version: 0.1.0 Requires-Python >=3.9,<4.0\u001b[0m\u001b[31m\n",
      "\u001b[0m\u001b[31mERROR: Could not find a version that satisfies the requirement antiword (from versions: none)\u001b[0m\u001b[31m\n",
      "\u001b[0m\u001b[31mERROR: No matching distribution found for antiword\u001b[0m\u001b[31m\n",
      "\u001b[0m\n",
      "\u001b[1m[\u001b[0m\u001b[34;49mnotice\u001b[0m\u001b[1;39;49m]\u001b[0m\u001b[39;49m A new release of pip available: \u001b[0m\u001b[31;49m22.1.2\u001b[0m\u001b[39;49m -> \u001b[0m\u001b[32;49m23.0\u001b[0m\n",
      "\u001b[1m[\u001b[0m\u001b[34;49mnotice\u001b[0m\u001b[1;39;49m]\u001b[0m\u001b[39;49m To update, run: \u001b[0m\u001b[32;49m/Library/Developer/CommandLineTools/usr/bin/python3 -m pip install --upgrade pip\u001b[0m\n"
     ]
    }
   ],
   "source": [
    "!pip3 install antiword"
   ]
  },
  {
   "cell_type": "code",
   "execution_count": 45,
   "id": "2a63e7bd",
   "metadata": {},
   "outputs": [
    {
     "name": "stdout",
     "output_type": "stream",
     "text": [
      "Defaulting to user installation because normal site-packages is not writeable\n",
      "\u001b[31mERROR: Could not find a version that satisfies the requirement libreoffice (from versions: none)\u001b[0m\u001b[31m\n",
      "\u001b[0m\u001b[31mERROR: No matching distribution found for libreoffice\u001b[0m\u001b[31m\n",
      "\u001b[0m\n",
      "\u001b[1m[\u001b[0m\u001b[34;49mnotice\u001b[0m\u001b[1;39;49m]\u001b[0m\u001b[39;49m A new release of pip available: \u001b[0m\u001b[31;49m22.1.2\u001b[0m\u001b[39;49m -> \u001b[0m\u001b[32;49m23.0\u001b[0m\n",
      "\u001b[1m[\u001b[0m\u001b[34;49mnotice\u001b[0m\u001b[1;39;49m]\u001b[0m\u001b[39;49m To update, run: \u001b[0m\u001b[32;49m/Library/Developer/CommandLineTools/usr/bin/python3 -m pip install --upgrade pip\u001b[0m\n"
     ]
    }
   ],
   "source": [
    "!pip3 install libreoffice"
   ]
  },
  {
   "cell_type": "code",
   "execution_count": 23,
   "id": "4ad67447",
   "metadata": {},
   "outputs": [],
   "source": [
    "nlp = spacy.load(\"en_core_web_lg\")\n",
    "skill_pattern_path = './jz_skill_patterns.jsonl'"
   ]
  },
  {
   "cell_type": "code",
   "execution_count": 24,
   "id": "b57c7133",
   "metadata": {},
   "outputs": [
    {
     "data": {
      "text/plain": [
       "['tok2vec',\n",
       " 'tagger',\n",
       " 'parser',\n",
       " 'attribute_ruler',\n",
       " 'lemmatizer',\n",
       " 'ner',\n",
       " 'entity_ruler']"
      ]
     },
     "execution_count": 24,
     "metadata": {},
     "output_type": "execute_result"
    }
   ],
   "source": [
    "ruler = nlp.add_pipe(\"entity_ruler\")\n",
    "ruler.from_disk(skill_pattern_path)\n",
    "nlp.pipe_names"
   ]
  },
  {
   "cell_type": "code",
   "execution_count": 25,
   "id": "8d1559fe",
   "metadata": {},
   "outputs": [],
   "source": [
    "def get_skills(text):\n",
    "    \"\"\" extract all the skills present in the text, we extract SKILL- entities here\"\"\"\n",
    "    doc = nlp(text)\n",
    "    myset = []\n",
    "    subset = []\n",
    "    for ent in doc.ents:\n",
    "        if ent.label_ == \"SKILL\":\n",
    "            subset.append(ent.text)\n",
    "    myset.append(subset)\n",
    "    return subset\n",
    "\n",
    "\n",
    "def unique_skills(x):\n",
    "    \"\"\"This function gets the unique skills of all the available skills \"\"\"\n",
    "    return list(set(x))"
   ]
  },
  {
   "cell_type": "code",
   "execution_count": 29,
   "id": "4a2cd7a3",
   "metadata": {},
   "outputs": [],
   "source": [
    "def skills_extract(resume_str):\n",
    "    resume_skills = unique_skills(get_skills(resume_str.lower()))\n",
    "    return resume_skills"
   ]
  },
  {
   "cell_type": "code",
   "execution_count": 31,
   "id": "275cb792",
   "metadata": {},
   "outputs": [
    {
     "name": "stdout",
     "output_type": "stream",
     "text": [
      "Parsing-- Anurag Rajhans.docx\n",
      "Parsing-- Phaedon Koutsoyannopoulos.pdf\n",
      "Parsing-- Yasseen Ahmanache CV.pdf\n",
      "Parsing-- Karthika C.pdf\n",
      "Parsing-- Turkey_Alsalkini CV.pdf\n",
      "Parsing-- Jordan Cruickshank CV.pdf\n",
      "Parsing-- David Palazzo.pdf\n",
      "Parsing-- Cristian Ramon Martinez Garcia.pdf\n",
      "Parsing-- Ayusman Adarsha Samal .doc\n",
      "jk\n",
      "Failed parsing for Ayusman Adarsha Samal .doc\n",
      "Parsing-- ELIAS KASSAPIS.pdf\n",
      "Parsing-- Mohan Babu.docx\n",
      "Parsing-- Ritesh Maduri.pdf\n",
      "Parsing-- Vineeth Krishnakumar.docx\n",
      "Parsing-- Luis Bolanger - YNH Senior Engineer.pdf\n",
      "Parsing-- Diego Botelho CV.pdf\n",
      "Parsing-- Upendra Bellamkonda - YNH Principal Engineer.docx\n",
      "writing the consolidated output to  parsed_jsons.json\n"
     ]
    },
    {
     "data": {
      "text/plain": [
       "'Success'"
      ]
     },
     "execution_count": 31,
     "metadata": {},
     "output_type": "execute_result"
    }
   ],
   "source": [
    "#Processing Resumes to extract skills list\n",
    "score_lst = []\n",
    "res_dict = dict()\n",
    "failed_res_dict = {}\n",
    "parsed_json = \"parsed_jsons.json\"\n",
    "\n",
    "def process_resume_folder(path):\n",
    "    # Loop over each file to process\n",
    "    counter = 0\n",
    "    dircontent = os.listdir(path)\n",
    "    for eachfile in dircontent:\n",
    "        counter +=1\n",
    "        try:\n",
    "            print(\"Parsing-- \" + str(eachfile))\n",
    "            if '.doc' in eachfile or'.docx' in eachfile or '.pdf' in eachfile:\n",
    "                input_resume = textract.process(path+eachfile)\n",
    "                res_dict[eachfile] = skills_extract(str(input_resume))\n",
    "    #             score_lst.append(score_calc(input_skills, str(input_resume)))\n",
    "        except Exception as e:\n",
    "            res_dict[eachfile] = -1\n",
    "            failed_res_dict[eachfile] = e\n",
    "            print(\"Failed parsing for {0}\".format(eachfile))\n",
    "   \n",
    "    # Write onto Json file\n",
    "    with open(parsed_json, \"w\") as outfile:\n",
    "        print(\"writing the consolidated output to \", parsed_json)\n",
    "        json.dump(res_dict, outfile)\n",
    "    \n",
    "    return \"Success\"\n",
    "\n",
    "process_resume_folder('./bigspark CVs sample/')\n"
   ]
  },
  {
   "cell_type": "code",
   "execution_count": null,
   "id": "9c25f210",
   "metadata": {},
   "outputs": [],
   "source": []
  }
 ],
 "metadata": {
  "kernelspec": {
   "display_name": "Python 3 (ipykernel)",
   "language": "python",
   "name": "python3"
  },
  "language_info": {
   "codemirror_mode": {
    "name": "ipython",
    "version": 3
   },
   "file_extension": ".py",
   "mimetype": "text/x-python",
   "name": "python",
   "nbconvert_exporter": "python",
   "pygments_lexer": "ipython3",
   "version": "3.8.9"
  }
 },
 "nbformat": 4,
 "nbformat_minor": 5
}
